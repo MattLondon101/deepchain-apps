{
 "cells": [
  {
   "cell_type": "code",
   "execution_count": 3,
   "metadata": {},
   "outputs": [
    {
     "name": "stdout",
     "output_type": "stream",
     "text": [
      "Collecting bio-datasets\n",
      "  Using cached bio_datasets-0.0.4-py3-none-any.whl.metadata (2.4 kB)\n",
      "Collecting google-cloud-storage==1.37.1 (from bio-datasets)\n",
      "  Using cached google_cloud_storage-1.37.1-py2.py3-none-any.whl.metadata (4.7 kB)\n",
      "Collecting pandas==1.2.4 (from bio-datasets)\n",
      "  Downloading pandas-1.2.4-cp38-cp38-manylinux1_x86_64.whl.metadata (4.7 kB)\n",
      "Collecting tqdm==4.60.0 (from bio-datasets)\n",
      "  Using cached tqdm-4.60.0-py2.py3-none-any.whl.metadata (57 kB)\n",
      "Collecting google-auth<2.0dev,>=1.11.0 (from google-cloud-storage==1.37.1->bio-datasets)\n",
      "  Using cached google_auth-1.35.0-py2.py3-none-any.whl.metadata (3.5 kB)\n",
      "Collecting google-cloud-core<2.0dev,>=1.4.1 (from google-cloud-storage==1.37.1->bio-datasets)\n",
      "  Using cached google_cloud_core-1.7.3-py2.py3-none-any.whl.metadata (2.4 kB)\n",
      "Collecting google-resumable-media<2.0dev,>=1.2.0 (from google-cloud-storage==1.37.1->bio-datasets)\n",
      "  Using cached google_resumable_media-1.3.3-py2.py3-none-any.whl.metadata (2.2 kB)\n",
      "Requirement already satisfied: requests<3.0.0dev,>=2.18.0 in /home/mtx/anaconda3/envs/seg38/lib/python3.8/site-packages (from google-cloud-storage==1.37.1->bio-datasets) (2.31.0)\n",
      "Requirement already satisfied: python-dateutil>=2.7.3 in /home/mtx/anaconda3/envs/seg38/lib/python3.8/site-packages (from pandas==1.2.4->bio-datasets) (2.8.2)\n",
      "Requirement already satisfied: pytz>=2017.3 in /home/mtx/anaconda3/envs/seg38/lib/python3.8/site-packages (from pandas==1.2.4->bio-datasets) (2024.1)\n",
      "Requirement already satisfied: numpy>=1.16.5 in /home/mtx/anaconda3/envs/seg38/lib/python3.8/site-packages (from pandas==1.2.4->bio-datasets) (1.24.4)\n",
      "Collecting cachetools<5.0,>=2.0.0 (from google-auth<2.0dev,>=1.11.0->google-cloud-storage==1.37.1->bio-datasets)\n",
      "  Using cached cachetools-4.2.4-py3-none-any.whl.metadata (4.8 kB)\n",
      "Requirement already satisfied: pyasn1-modules>=0.2.1 in /home/mtx/anaconda3/envs/seg38/lib/python3.8/site-packages (from google-auth<2.0dev,>=1.11.0->google-cloud-storage==1.37.1->bio-datasets) (0.3.0)\n",
      "Requirement already satisfied: setuptools>=40.3.0 in /home/mtx/anaconda3/envs/seg38/lib/python3.8/site-packages (from google-auth<2.0dev,>=1.11.0->google-cloud-storage==1.37.1->bio-datasets) (68.2.2)\n",
      "Requirement already satisfied: six>=1.9.0 in /home/mtx/anaconda3/envs/seg38/lib/python3.8/site-packages (from google-auth<2.0dev,>=1.11.0->google-cloud-storage==1.37.1->bio-datasets) (1.16.0)\n",
      "Requirement already satisfied: rsa<5,>=3.1.4 in /home/mtx/anaconda3/envs/seg38/lib/python3.8/site-packages (from google-auth<2.0dev,>=1.11.0->google-cloud-storage==1.37.1->bio-datasets) (4.9)\n",
      "Requirement already satisfied: google-api-core<3.0.0dev,>=1.21.0 in /home/mtx/anaconda3/envs/seg38/lib/python3.8/site-packages (from google-cloud-core<2.0dev,>=1.4.1->google-cloud-storage==1.37.1->bio-datasets) (2.17.1)\n",
      "Collecting google-crc32c<2.0dev,>=1.0 (from google-resumable-media<2.0dev,>=1.2.0->google-cloud-storage==1.37.1->bio-datasets)\n",
      "  Downloading google_crc32c-1.5.0-cp38-cp38-manylinux_2_17_x86_64.manylinux2014_x86_64.whl.metadata (2.3 kB)\n",
      "Requirement already satisfied: charset-normalizer<4,>=2 in /home/mtx/anaconda3/envs/seg38/lib/python3.8/site-packages (from requests<3.0.0dev,>=2.18.0->google-cloud-storage==1.37.1->bio-datasets) (3.3.2)\n",
      "Requirement already satisfied: idna<4,>=2.5 in /home/mtx/anaconda3/envs/seg38/lib/python3.8/site-packages (from requests<3.0.0dev,>=2.18.0->google-cloud-storage==1.37.1->bio-datasets) (3.6)\n",
      "Requirement already satisfied: urllib3<3,>=1.21.1 in /home/mtx/anaconda3/envs/seg38/lib/python3.8/site-packages (from requests<3.0.0dev,>=2.18.0->google-cloud-storage==1.37.1->bio-datasets) (2.2.1)\n",
      "Requirement already satisfied: certifi>=2017.4.17 in /home/mtx/anaconda3/envs/seg38/lib/python3.8/site-packages (from requests<3.0.0dev,>=2.18.0->google-cloud-storage==1.37.1->bio-datasets) (2024.2.2)\n",
      "Requirement already satisfied: googleapis-common-protos<2.0.dev0,>=1.56.2 in /home/mtx/anaconda3/envs/seg38/lib/python3.8/site-packages (from google-api-core<3.0.0dev,>=1.21.0->google-cloud-core<2.0dev,>=1.4.1->google-cloud-storage==1.37.1->bio-datasets) (1.62.0)\n",
      "Requirement already satisfied: protobuf!=3.20.0,!=3.20.1,!=4.21.0,!=4.21.1,!=4.21.2,!=4.21.3,!=4.21.4,!=4.21.5,<5.0.0.dev0,>=3.19.5 in /home/mtx/anaconda3/envs/seg38/lib/python3.8/site-packages (from google-api-core<3.0.0dev,>=1.21.0->google-cloud-core<2.0dev,>=1.4.1->google-cloud-storage==1.37.1->bio-datasets) (4.25.3)\n",
      "INFO: pip is looking at multiple versions of google-api-core to determine which version is compatible with other requirements. This could take a while.\n",
      "Collecting google-api-core<3.0.0dev,>=1.21.0 (from google-cloud-core<2.0dev,>=1.4.1->google-cloud-storage==1.37.1->bio-datasets)\n",
      "  Using cached google_api_core-2.17.0-py3-none-any.whl.metadata (2.7 kB)\n",
      "  Using cached google_api_core-2.16.2-py3-none-any.whl.metadata (2.7 kB)\n",
      "  Using cached google_api_core-2.16.1-py3-none-any.whl.metadata (2.7 kB)\n",
      "  Using cached google_api_core-2.16.0-py3-none-any.whl.metadata (2.7 kB)\n",
      "  Using cached google_api_core-2.15.0-py3-none-any.whl.metadata (2.7 kB)\n",
      "  Using cached google_api_core-2.14.0-py3-none-any.whl.metadata (2.6 kB)\n",
      "  Using cached google_api_core-2.13.1-py3-none-any.whl.metadata (2.6 kB)\n",
      "INFO: pip is still looking at multiple versions of google-api-core to determine which version is compatible with other requirements. This could take a while.\n",
      "  Using cached google_api_core-2.13.0-py3-none-any.whl.metadata (2.7 kB)\n",
      "  Using cached google_api_core-2.12.0-py3-none-any.whl.metadata (2.7 kB)\n",
      "  Using cached google_api_core-2.11.1-py3-none-any.whl.metadata (2.7 kB)\n",
      "  Using cached google_api_core-2.11.0-py3-none-any.whl.metadata (2.6 kB)\n",
      "  Using cached google_api_core-2.10.2-py3-none-any.whl.metadata (2.4 kB)\n",
      "Requirement already satisfied: pyasn1<0.6.0,>=0.4.6 in /home/mtx/anaconda3/envs/seg38/lib/python3.8/site-packages (from pyasn1-modules>=0.2.1->google-auth<2.0dev,>=1.11.0->google-cloud-storage==1.37.1->bio-datasets) (0.5.1)\n",
      "Using cached bio_datasets-0.0.4-py3-none-any.whl (12 kB)\n",
      "Using cached google_cloud_storage-1.37.1-py2.py3-none-any.whl (103 kB)\n",
      "Downloading pandas-1.2.4-cp38-cp38-manylinux1_x86_64.whl (9.7 MB)\n",
      "\u001b[2K   \u001b[90m━━━━━━━━━━━━━━━━━━━━━━━━━━━━━━━━━━━━━━━━\u001b[0m \u001b[32m9.7/9.7 MB\u001b[0m \u001b[31m9.4 MB/s\u001b[0m eta \u001b[36m0:00:00\u001b[0m00:01\u001b[0m00:01\u001b[0m\n",
      "\u001b[?25hUsing cached tqdm-4.60.0-py2.py3-none-any.whl (75 kB)\n",
      "Using cached google_auth-1.35.0-py2.py3-none-any.whl (152 kB)\n",
      "Using cached google_cloud_core-1.7.3-py2.py3-none-any.whl (28 kB)\n",
      "Using cached google_resumable_media-1.3.3-py2.py3-none-any.whl (75 kB)\n",
      "Using cached cachetools-4.2.4-py3-none-any.whl (10 kB)\n",
      "Using cached google_api_core-2.10.2-py3-none-any.whl (115 kB)\n",
      "Downloading google_crc32c-1.5.0-cp38-cp38-manylinux_2_17_x86_64.manylinux2014_x86_64.whl (32 kB)\n",
      "Installing collected packages: tqdm, google-crc32c, cachetools, pandas, google-resumable-media, google-auth, google-api-core, google-cloud-core, google-cloud-storage, bio-datasets\n",
      "  Attempting uninstall: tqdm\n",
      "    Found existing installation: tqdm 4.66.2\n",
      "    Uninstalling tqdm-4.66.2:\n",
      "      Successfully uninstalled tqdm-4.66.2\n",
      "  Attempting uninstall: cachetools\n",
      "    Found existing installation: cachetools 5.3.3\n",
      "    Uninstalling cachetools-5.3.3:\n",
      "      Successfully uninstalled cachetools-5.3.3\n",
      "  Attempting uninstall: pandas\n",
      "    Found existing installation: pandas 2.0.3\n",
      "    Uninstalling pandas-2.0.3:\n",
      "      Successfully uninstalled pandas-2.0.3\n",
      "  Attempting uninstall: google-auth\n",
      "    Found existing installation: google-auth 2.28.1\n",
      "    Uninstalling google-auth-2.28.1:\n",
      "      Successfully uninstalled google-auth-2.28.1\n",
      "  Attempting uninstall: google-api-core\n",
      "    Found existing installation: google-api-core 2.17.1\n",
      "    Uninstalling google-api-core-2.17.1:\n",
      "      Successfully uninstalled google-api-core-2.17.1\n",
      "Successfully installed bio-datasets-0.0.4 cachetools-4.2.4 google-api-core-2.10.2 google-auth-1.35.0 google-cloud-core-1.7.3 google-cloud-storage-1.37.1 google-crc32c-1.5.0 google-resumable-media-1.3.3 pandas-1.2.4 tqdm-4.60.0\n"
     ]
    }
   ],
   "source": [
    "!pip install bio-datasets"
   ]
  },
  {
   "cell_type": "code",
   "execution_count": 23,
   "metadata": {},
   "outputs": [],
   "source": [
    "import numpy as np\n",
    "from biodatasets import list_datasets, load_dataset\n",
    "from deepchain.models import MLP\n",
    "from deepchain.models.utils import confusion_matrix_plot, model_evaluation_accuracy\n",
    "from sklearn.model_selection import train_test_split\n",
    "import os\n",
    "old = os.listdir\n",
    "opj = os.path.join\n"
   ]
  },
  {
   "cell_type": "code",
   "execution_count": 15,
   "metadata": {},
   "outputs": [
    {
     "data": {
      "text/plain": [
       "['quaternary-structure',\n",
       " 'pathogen',\n",
       " 'RNABindingProtein',\n",
       " 'solubility',\n",
       " 'netmhcpan-4.1-train',\n",
       " 'ontologyprediction',\n",
       " 'alphafold',\n",
       " 'ontologyprediction-test',\n",
       " 'cif',\n",
       " 'pfam-32.0',\n",
       " 'swissProt',\n",
       " 'antibiotic-resistance',\n",
       " 'stability',\n",
       " 'toxicity',\n",
       " 'antibodybinding']"
      ]
     },
     "execution_count": 15,
     "metadata": {},
     "output_type": "execute_result"
    }
   ],
   "source": [
    "list_datasets()"
   ]
  },
  {
   "cell_type": "code",
   "execution_count": 16,
   "metadata": {},
   "outputs": [
    {
     "name": "stderr",
     "output_type": "stream",
     "text": [
      "INFO: Start downloading pathogen dataset in /home/mtx/.cache/bio-datasets/pathogen ...\n",
      "dataset.csv: 35.7MB [00:03, 10.3MB/s]                            \n",
      "INFO: File pathogen/dataset.csv downloaded from Google Bucket 'deepchain-datasets-public' at /home/mtx/.cache/bio-datasets/pathogen/dataset.csv\n",
      "description.md: 8.00kB [00:00, 31.5kB/s]\n",
      "INFO: File pathogen/description.md downloaded from Google Bucket 'deepchain-datasets-public' at /home/mtx/.cache/bio-datasets/pathogen/description.md\n",
      "info.json: 8.00kB [00:00, 31.9kB/s]\n",
      "INFO: File pathogen/info.json downloaded from Google Bucket 'deepchain-datasets-public' at /home/mtx/.cache/bio-datasets/pathogen/info.json\n",
      "sequence_protbert_cls_embeddings.npy: 376MB [00:20, 19.6MB/s]                              \n",
      "INFO: File pathogen/sequence_protbert_cls_embeddings.npy downloaded from Google Bucket 'deepchain-datasets-public' at /home/mtx/.cache/bio-datasets/pathogen/sequence_protbert_cls_embeddings.npy\n"
     ]
    }
   ],
   "source": [
    "# Load embedding and target dataset\n",
    "pathogen = load_dataset(\"pathogen\")"
   ]
  },
  {
   "cell_type": "code",
   "execution_count": null,
   "metadata": {},
   "outputs": [],
   "source": []
  },
  {
   "cell_type": "code",
   "execution_count": 17,
   "metadata": {},
   "outputs": [],
   "source": [
    "\n",
    "_, y = pathogen.to_npy_arrays(input_names=[\"sequence\"], target_names=[\"class\"])\n",
    "embeddings = pathogen.get_embeddings(\"sequence\", \"protbert\", \"cls\")\n",
    "\n",
    "x_train, x_test, y_train, y_test = train_test_split(embeddings, y[0], test_size=0.3)\n",
    "\n",
    "# Build a multi-layer-perceptron on top of embedding\n",
    "\n",
    "# The fit method can handle all the arguments available in the\n",
    "# 'trainer' class of pytorch lightning :\n",
    "#               https://pytorch-lightning.readthedocs.io/en/latest/common/trainer.html\n",
    "# Example arguments:\n",
    "# * specifies all GPUs regardless of its availability :\n",
    "#               Trainer(gpus=-1, auto_select_gpus=False, max_epochs=20)\n"
   ]
  },
  {
   "cell_type": "code",
   "execution_count": 26,
   "metadata": {},
   "outputs": [
    {
     "name": "stderr",
     "output_type": "stream",
     "text": [
      "2024-03-04 20:14:21,595:INFO: This is a binary classification problem\n",
      "2024-03-04 20:14:21,609:INFO: This is a binary classification problem\n",
      "GPU available: True, used: False\n",
      "TPU available: False, using: 0 TPU cores\n",
      "IPU available: False, using: 0 IPUs\n",
      "HPU available: False, using: 0 HPUs\n",
      "\n",
      "  | Name       | Type       | Params\n",
      "------------------------------------------\n",
      "0 | activation | Sigmoid    | 0     \n",
      "1 | model      | Sequential | 131 K \n",
      "2 | loss       | BCELoss    | 0     \n",
      "------------------------------------------\n",
      "131 K     Trainable params\n",
      "0         Non-trainable params\n",
      "131 K     Total params\n",
      "0.525     Total estimated model params size (MB)\n"
     ]
    },
    {
     "name": "stdout",
     "output_type": "stream",
     "text": [
      "Epoch 4: 100%|██████████| 2109/2109 [00:08<00:00, 235.02it/s, loss=0.0525, v_num=1]\n"
     ]
    },
    {
     "name": "stderr",
     "output_type": "stream",
     "text": [
      "2024-03-04 20:15:07,104:INFO: Save state_dict parameters in model.pt\n"
     ]
    }
   ],
   "source": [
    "# Input variables for MLP\n",
    "modeldir = '../models'\n",
    "modelname = 'model.pt'\n",
    "modelpath = os.path.join(modeldir, modelname)\n",
    "\n",
    "n_class = len(np.unique(y_train))\n",
    "input_shape = x_train.shape[1]\n",
    "\n",
    "mlp = MLP(input_shape=input_shape, n_class=n_class)\n",
    "mlp.fit(x_train, y_train, epochs=5)\n",
    "mlp.save(modelpath)\n"
   ]
  },
  {
   "cell_type": "code",
   "execution_count": 27,
   "metadata": {},
   "outputs": [
    {
     "name": "stdout",
     "output_type": "stream",
     "text": [
      " Test :  accuracy score : 0.95 - AUC score : 0.99  \n"
     ]
    }
   ],
   "source": [
    "# Model evaluation\n",
    "y_pred = mlp(x_test).squeeze().detach().numpy()\n",
    "model_evaluation_accuracy(y_test, y_pred)"
   ]
  },
  {
   "cell_type": "code",
   "execution_count": 28,
   "metadata": {},
   "outputs": [
    {
     "data": {
      "image/png": "[encoded data removed]",
      "text/plain": [
       "<Figure size 1000x700 with 2 Axes>"
      ]
     },
     "metadata": {},
     "output_type": "display_data"
    }
   ],
   "source": [
    "# Plot confusion matrix\n",
    "confusion_matrix_plot(y_test, (y_pred > 0.5).astype(int), [\"0\", \"1\"])"
   ]
  },
  {
   "cell_type": "code",
   "execution_count": 34,
   "metadata": {},
   "outputs": [],
   "source": [
    "tp=13426\n",
    "fp=559\n",
    "fn=795\n",
    "tn=14130\n"
   ]
  },
  {
   "cell_type": "code",
   "execution_count": 35,
   "metadata": {},
   "outputs": [
    {
     "data": {
      "text/plain": [
       "0.9531649948114839"
      ]
     },
     "execution_count": 35,
     "metadata": {},
     "output_type": "execute_result"
    }
   ],
   "source": [
    "acc=(tp+tn)/(tp+fp+fn+tn)\n",
    "acc"
   ]
  },
  {
   "cell_type": "code",
   "execution_count": null,
   "metadata": {},
   "outputs": [],
   "source": []
  }
 ],
 "metadata": {
  "kernelspec": {
   "display_name": "seg38",
   "language": "python",
   "name": "python3"
  },
  "language_info": {
   "codemirror_mode": {
    "name": "ipython",
    "version": 3
   },
   "file_extension": ".py",
   "mimetype": "text/x-python",
   "name": "python",
   "nbconvert_exporter": "python",
   "pygments_lexer": "ipython3",
   "version": "3.7.16"
  }
 },
 "nbformat": 4,
 "nbformat_minor": 2
}
